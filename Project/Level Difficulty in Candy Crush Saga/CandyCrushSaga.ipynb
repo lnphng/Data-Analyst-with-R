{
 "cells": [
  {
   "cell_type": "markdown",
   "metadata": {},
   "source": [
    "## 1. Candy Crush Saga\n",
    "<p><a href=\"https://king.com/game/candycrush\">Candy Crush Saga</a> is a hit mobile game developed by King (part of Activision|Blizzard) that is played by millions of people all around the world. The game is structured as a series of levels where players need to match similar candy together to (hopefully) clear the level and keep progressing on the level map.\n",
    "<p>Candy Crush has more than 3000 levels, and new ones are added every week. That is a lot of levels! And with that many levels, it's important to get <em>level difficulty</em> just right. Too easy and the game gets boring, too hard and players become frustrated and quit playing.</p>\n",
    "<p>In this project, we will see how we can use data collected from players to estimate level difficulty. Let's start by loading in the packages we're going to need.</p>"
   ]
  },
  {
   "cell_type": "code",
   "execution_count": 12,
   "metadata": {},
   "outputs": [],
   "source": [
    "# This sets the size of plots to a good default.\n",
    "options(repr.plot.width = 10, repr.plot.height = 4)\n",
    "\n",
    "# Loading in packages\n",
    "library(dplyr)\n",
    "library(ggplot2)\n",
    "library(readr)"
   ]
  },
  {
   "cell_type": "markdown",
   "metadata": {
    "dc": {
     "key": "10"
    },
    "deletable": false,
    "editable": false,
    "run_control": {
     "frozen": true
    },
    "tags": [
     "context"
    ]
   },
   "source": [
    "## 2. The data set\n",
    "<p>The dataset we will use contains one week of data from a sample of players who played Candy Crush back in 2014. The data is also from a single <em>episode</em>, that is, a set of 15 levels. It has the following columns:</p>\n",
    "<ul>\n",
    "<li><strong>player_id</strong>: a unique player id</li>\n",
    "<li><strong>dt</strong>: the date</li>\n",
    "<li><strong>level</strong>: the level number within the episode, from 1 to 15.</li>\n",
    "<li><strong>num_attempts</strong>: number of level attempts for the player on that level and date.</li>\n",
    "<li><strong>num_success</strong>: number of level attempts that resulted in a success/win for the player on that level and date.</li>\n",
    "</ul>\n",
    "<p>The granularity of the dataset is player, date, and level. That is, there is a row for every player, day, and level recording the total number of attempts and how many of those resulted in a win.</p>\n",
    "<p>Now, let's load in the dataset and take a look at the first couple of rows. </p>"
   ]
  },
  {
   "cell_type": "code",
   "execution_count": 13,
   "metadata": {
    "dc": {
     "key": "10"
    },
    "tags": [
     "sample_code"
    ]
   },
   "outputs": [
    {
     "name": "stderr",
     "output_type": "stream",
     "text": [
      "Parsed with column specification:\n",
      "cols(\n",
      "  player_id = \u001b[31mcol_character()\u001b[39m,\n",
      "  dt = \u001b[34mcol_date(format = \"\")\u001b[39m,\n",
      "  level = \u001b[32mcol_double()\u001b[39m,\n",
      "  num_attempts = \u001b[32mcol_double()\u001b[39m,\n",
      "  num_success = \u001b[32mcol_double()\u001b[39m\n",
      ")\n",
      "\n"
     ]
    },
    {
     "data": {
      "text/html": [
       "<table>\n",
       "<caption>A tibble: 6 × 5</caption>\n",
       "<thead>\n",
       "\t<tr><th scope=col>player_id</th><th scope=col>dt</th><th scope=col>level</th><th scope=col>num_attempts</th><th scope=col>num_success</th></tr>\n",
       "\t<tr><th scope=col>&lt;chr&gt;</th><th scope=col>&lt;date&gt;</th><th scope=col>&lt;dbl&gt;</th><th scope=col>&lt;dbl&gt;</th><th scope=col>&lt;dbl&gt;</th></tr>\n",
       "</thead>\n",
       "<tbody>\n",
       "\t<tr><td>6dd5af4c7228fa353d505767143f5815</td><td>2014-01-04</td><td> 4</td><td>3</td><td>1</td></tr>\n",
       "\t<tr><td>c7ec97c39349ab7e4d39b4f74062ec13</td><td>2014-01-01</td><td> 8</td><td>4</td><td>1</td></tr>\n",
       "\t<tr><td>c7ec97c39349ab7e4d39b4f74062ec13</td><td>2014-01-05</td><td>12</td><td>6</td><td>0</td></tr>\n",
       "\t<tr><td>a32c5e9700ed356dc8dd5bb3230c5227</td><td>2014-01-03</td><td>11</td><td>1</td><td>1</td></tr>\n",
       "\t<tr><td>a32c5e9700ed356dc8dd5bb3230c5227</td><td>2014-01-07</td><td>15</td><td>6</td><td>0</td></tr>\n",
       "\t<tr><td>b94d403ac4edf639442f93eeffdc7d92</td><td>2014-01-01</td><td> 8</td><td>8</td><td>1</td></tr>\n",
       "</tbody>\n",
       "</table>\n"
      ],
      "text/latex": [
       "A tibble: 6 × 5\n",
       "\\begin{tabular}{lllll}\n",
       " player\\_id & dt & level & num\\_attempts & num\\_success\\\\\n",
       " <chr> & <date> & <dbl> & <dbl> & <dbl>\\\\\n",
       "\\hline\n",
       "\t 6dd5af4c7228fa353d505767143f5815 & 2014-01-04 &  4 & 3 & 1\\\\\n",
       "\t c7ec97c39349ab7e4d39b4f74062ec13 & 2014-01-01 &  8 & 4 & 1\\\\\n",
       "\t c7ec97c39349ab7e4d39b4f74062ec13 & 2014-01-05 & 12 & 6 & 0\\\\\n",
       "\t a32c5e9700ed356dc8dd5bb3230c5227 & 2014-01-03 & 11 & 1 & 1\\\\\n",
       "\t a32c5e9700ed356dc8dd5bb3230c5227 & 2014-01-07 & 15 & 6 & 0\\\\\n",
       "\t b94d403ac4edf639442f93eeffdc7d92 & 2014-01-01 &  8 & 8 & 1\\\\\n",
       "\\end{tabular}\n"
      ],
      "text/markdown": [
       "\n",
       "A tibble: 6 × 5\n",
       "\n",
       "| player_id &lt;chr&gt; | dt &lt;date&gt; | level &lt;dbl&gt; | num_attempts &lt;dbl&gt; | num_success &lt;dbl&gt; |\n",
       "|---|---|---|---|---|\n",
       "| 6dd5af4c7228fa353d505767143f5815 | 2014-01-04 |  4 | 3 | 1 |\n",
       "| c7ec97c39349ab7e4d39b4f74062ec13 | 2014-01-01 |  8 | 4 | 1 |\n",
       "| c7ec97c39349ab7e4d39b4f74062ec13 | 2014-01-05 | 12 | 6 | 0 |\n",
       "| a32c5e9700ed356dc8dd5bb3230c5227 | 2014-01-03 | 11 | 1 | 1 |\n",
       "| a32c5e9700ed356dc8dd5bb3230c5227 | 2014-01-07 | 15 | 6 | 0 |\n",
       "| b94d403ac4edf639442f93eeffdc7d92 | 2014-01-01 |  8 | 8 | 1 |\n",
       "\n"
      ],
      "text/plain": [
       "  player_id                        dt         level num_attempts num_success\n",
       "1 6dd5af4c7228fa353d505767143f5815 2014-01-04  4    3            1          \n",
       "2 c7ec97c39349ab7e4d39b4f74062ec13 2014-01-01  8    4            1          \n",
       "3 c7ec97c39349ab7e4d39b4f74062ec13 2014-01-05 12    6            0          \n",
       "4 a32c5e9700ed356dc8dd5bb3230c5227 2014-01-03 11    1            1          \n",
       "5 a32c5e9700ed356dc8dd5bb3230c5227 2014-01-07 15    6            0          \n",
       "6 b94d403ac4edf639442f93eeffdc7d92 2014-01-01  8    8            1          "
      ]
     },
     "metadata": {},
     "output_type": "display_data"
    }
   ],
   "source": [
    "# Reading in the data\n",
    "data <- read_csv('datasets/candy_crush.csv')\n",
    "\n",
    "# Printing out the first six rows\n",
    "head(data,6)"
   ]
  },
  {
   "cell_type": "markdown",
   "metadata": {
    "dc": {
     "key": "17"
    },
    "deletable": false,
    "editable": false,
    "run_control": {
     "frozen": true
    },
    "tags": [
     "context"
    ]
   },
   "source": [
    "# 3. Checking the data set\n",
    "<p>Now that we have loaded the dataset let's count how many players we have in the sample and how many days worth of data we have.</p>"
   ]
  },
  {
   "cell_type": "code",
   "execution_count": 14,
   "metadata": {
    "dc": {
     "key": "17"
    },
    "tags": [
     "sample_code"
    ]
   },
   "outputs": [
    {
     "name": "stdout",
     "output_type": "stream",
     "text": [
      "[1] \"Number of players:\"\n"
     ]
    },
    {
     "data": {
      "text/html": [
       "<table>\n",
       "<caption>A tibble: 1 × 1</caption>\n",
       "<thead>\n",
       "\t<tr><th scope=col>n</th></tr>\n",
       "\t<tr><th scope=col>&lt;int&gt;</th></tr>\n",
       "</thead>\n",
       "<tbody>\n",
       "\t<tr><td>6814</td></tr>\n",
       "</tbody>\n",
       "</table>\n"
      ],
      "text/latex": [
       "A tibble: 1 × 1\n",
       "\\begin{tabular}{l}\n",
       " n\\\\\n",
       " <int>\\\\\n",
       "\\hline\n",
       "\t 6814\\\\\n",
       "\\end{tabular}\n"
      ],
      "text/markdown": [
       "\n",
       "A tibble: 1 × 1\n",
       "\n",
       "| n &lt;int&gt; |\n",
       "|---|\n",
       "| 6814 |\n",
       "\n"
      ],
      "text/plain": [
       "  n   \n",
       "1 6814"
      ]
     },
     "metadata": {},
     "output_type": "display_data"
    },
    {
     "name": "stdout",
     "output_type": "stream",
     "text": [
      "[1] \"Period for which we have data:\"\n"
     ]
    },
    {
     "data": {
      "text/html": [
       "<style>\n",
       ".list-inline {list-style: none; margin:0; padding: 0}\n",
       ".list-inline>li {display: inline-block}\n",
       ".list-inline>li:not(:last-child)::after {content: \"\\00b7\"; padding: 0 .5ex}\n",
       "</style>\n",
       "<ol class=list-inline><li><time datetime=\"2014-01-01\">2014-01-01</time></li><li><time datetime=\"2014-01-07\">2014-01-07</time></li></ol>\n"
      ],
      "text/latex": [
       "\\begin{enumerate*}\n",
       "\\item 2014-01-01\n",
       "\\item 2014-01-07\n",
       "\\end{enumerate*}\n"
      ],
      "text/markdown": [
       "1. 2014-01-01\n",
       "2. 2014-01-07\n",
       "\n",
       "\n"
      ],
      "text/plain": [
       "[1] \"2014-01-01\" \"2014-01-07\""
      ]
     },
     "metadata": {},
     "output_type": "display_data"
    }
   ],
   "source": [
    "# Count and display the number of unique players\n",
    "print(\"Number of players:\")\n",
    "count(unique(data[1]))\n",
    "# Display the date range of the data\n",
    "print(\"Period for which we have data:\")\n",
    "range(data$dt)"
   ]
  },
  {
   "cell_type": "markdown",
   "metadata": {},
   "source": [
    "## 4. Computing level difficulty\n",
    "<p>Within each Candy Crush episode, there is a mix of easier and tougher levels. Luck and individual skill make the number of attempts required to pass a level different from player to player. The assumption is that difficult levels require more attempts on average than easier ones. That is, <em>the harder</em> a level is, <em>the lower</em> the probability to pass that level in a single attempt is.</p>\n",
    "<p>A simple approach to model this probability is as a <a href=\"https://en.wikipedia.org/wiki/Bernoulli_process\">Bernoulli process</a>; as a binary outcome (you either win or lose) characterized by a single parameter <em>p<sub>win</sub></em>: the probability of winning the level in a single attempt. This probability can be estimated for each level as:</p>\n",
    " $$p_{win} = \\frac{\\sum wins}{\\sum attempts}$$ \n",
    "<p>For example, let's say a level has been played 10 times and 2 of those attempts ended up in a victory. Then the probability of winning in a single attempt would be <em>p<sub>win</sub></em> = 2 / 10 = 20%.</p>\n",
    "<p>Now, let's compute the difficulty <em>p<sub>win</sub></em> separately for each of the 15 levels.</p>"
   ]
  },
  {
   "cell_type": "code",
   "execution_count": 22,
   "metadata": {
    "dc": {
     "key": "24"
    },
    "tags": [
     "sample_code"
    ]
   },
   "outputs": [
    {
     "name": "stderr",
     "output_type": "stream",
     "text": [
      "`summarise()` ungrouping output (override with `.groups` argument)\n",
      "\n"
     ]
    },
    {
     "data": {
      "text/html": [
       "<table>\n",
       "<caption>A tibble: 15 × 4</caption>\n",
       "<thead>\n",
       "\t<tr><th scope=col>level</th><th scope=col>attempts</th><th scope=col>wins</th><th scope=col>p_win</th></tr>\n",
       "\t<tr><th scope=col>&lt;dbl&gt;</th><th scope=col>&lt;dbl&gt;</th><th scope=col>&lt;dbl&gt;</th><th scope=col>&lt;dbl&gt;</th></tr>\n",
       "</thead>\n",
       "<tbody>\n",
       "\t<tr><td> 1</td><td> 1322</td><td> 818</td><td>0.61875946</td></tr>\n",
       "\t<tr><td> 2</td><td> 1285</td><td> 666</td><td>0.51828794</td></tr>\n",
       "\t<tr><td> 3</td><td> 1546</td><td> 662</td><td>0.42820181</td></tr>\n",
       "\t<tr><td> 4</td><td> 1893</td><td> 705</td><td>0.37242472</td></tr>\n",
       "\t<tr><td> 5</td><td> 6937</td><td> 634</td><td>0.09139397</td></tr>\n",
       "\t<tr><td> 6</td><td> 1591</td><td> 668</td><td>0.41986172</td></tr>\n",
       "\t<tr><td> 7</td><td> 4526</td><td> 614</td><td>0.13566063</td></tr>\n",
       "\t<tr><td> 8</td><td>15816</td><td> 641</td><td>0.04052858</td></tr>\n",
       "\t<tr><td> 9</td><td> 8241</td><td> 670</td><td>0.08130081</td></tr>\n",
       "\t<tr><td>10</td><td> 3282</td><td> 617</td><td>0.18799512</td></tr>\n",
       "\t<tr><td>11</td><td> 5575</td><td> 603</td><td>0.10816143</td></tr>\n",
       "\t<tr><td>12</td><td> 6868</td><td> 659</td><td>0.09595224</td></tr>\n",
       "\t<tr><td>13</td><td> 1327</td><td> 686</td><td>0.51695554</td></tr>\n",
       "\t<tr><td>14</td><td> 2772</td><td> 777</td><td>0.28030303</td></tr>\n",
       "\t<tr><td>15</td><td>30374</td><td>1157</td><td>0.03809179</td></tr>\n",
       "</tbody>\n",
       "</table>\n"
      ],
      "text/latex": [
       "A tibble: 15 × 4\n",
       "\\begin{tabular}{llll}\n",
       " level & attempts & wins & p\\_win\\\\\n",
       " <dbl> & <dbl> & <dbl> & <dbl>\\\\\n",
       "\\hline\n",
       "\t  1 &  1322 &  818 & 0.61875946\\\\\n",
       "\t  2 &  1285 &  666 & 0.51828794\\\\\n",
       "\t  3 &  1546 &  662 & 0.42820181\\\\\n",
       "\t  4 &  1893 &  705 & 0.37242472\\\\\n",
       "\t  5 &  6937 &  634 & 0.09139397\\\\\n",
       "\t  6 &  1591 &  668 & 0.41986172\\\\\n",
       "\t  7 &  4526 &  614 & 0.13566063\\\\\n",
       "\t  8 & 15816 &  641 & 0.04052858\\\\\n",
       "\t  9 &  8241 &  670 & 0.08130081\\\\\n",
       "\t 10 &  3282 &  617 & 0.18799512\\\\\n",
       "\t 11 &  5575 &  603 & 0.10816143\\\\\n",
       "\t 12 &  6868 &  659 & 0.09595224\\\\\n",
       "\t 13 &  1327 &  686 & 0.51695554\\\\\n",
       "\t 14 &  2772 &  777 & 0.28030303\\\\\n",
       "\t 15 & 30374 & 1157 & 0.03809179\\\\\n",
       "\\end{tabular}\n"
      ],
      "text/markdown": [
       "\n",
       "A tibble: 15 × 4\n",
       "\n",
       "| level &lt;dbl&gt; | attempts &lt;dbl&gt; | wins &lt;dbl&gt; | p_win &lt;dbl&gt; |\n",
       "|---|---|---|---|\n",
       "|  1 |  1322 |  818 | 0.61875946 |\n",
       "|  2 |  1285 |  666 | 0.51828794 |\n",
       "|  3 |  1546 |  662 | 0.42820181 |\n",
       "|  4 |  1893 |  705 | 0.37242472 |\n",
       "|  5 |  6937 |  634 | 0.09139397 |\n",
       "|  6 |  1591 |  668 | 0.41986172 |\n",
       "|  7 |  4526 |  614 | 0.13566063 |\n",
       "|  8 | 15816 |  641 | 0.04052858 |\n",
       "|  9 |  8241 |  670 | 0.08130081 |\n",
       "| 10 |  3282 |  617 | 0.18799512 |\n",
       "| 11 |  5575 |  603 | 0.10816143 |\n",
       "| 12 |  6868 |  659 | 0.09595224 |\n",
       "| 13 |  1327 |  686 | 0.51695554 |\n",
       "| 14 |  2772 |  777 | 0.28030303 |\n",
       "| 15 | 30374 | 1157 | 0.03809179 |\n",
       "\n"
      ],
      "text/plain": [
       "   level attempts wins p_win     \n",
       "1   1     1322     818 0.61875946\n",
       "2   2     1285     666 0.51828794\n",
       "3   3     1546     662 0.42820181\n",
       "4   4     1893     705 0.37242472\n",
       "5   5     6937     634 0.09139397\n",
       "6   6     1591     668 0.41986172\n",
       "7   7     4526     614 0.13566063\n",
       "8   8    15816     641 0.04052858\n",
       "9   9     8241     670 0.08130081\n",
       "10 10     3282     617 0.18799512\n",
       "11 11     5575     603 0.10816143\n",
       "12 12     6868     659 0.09595224\n",
       "13 13     1327     686 0.51695554\n",
       "14 14     2772     777 0.28030303\n",
       "15 15    30374    1157 0.03809179"
      ]
     },
     "metadata": {},
     "output_type": "display_data"
    }
   ],
   "source": [
    "# Calculating level difficulty\n",
    "difficulty <- data %>%\n",
    " group_by(level)%>%\n",
    " summarize(attempts = sum(num_attempts), wins = sum(num_success)) %>%\n",
    " mutate(p_win=wins/attempts)\n",
    "\n",
    "\n",
    "# Printing out the level difficulty\n",
    "difficulty\n"
   ]
  },
  {
   "cell_type": "markdown",
   "metadata": {},
   "source": [
    "## 5. Plotting difficulty profile\n",
    "\n",
    "<p>Great! We now have the difficulty for all the 15 levels in the episode. Keep in mind that, as we measure difficulty as the probability to pass a level in a single attempt, a <em>lower</em> value (a smaller probability of winning the level) implies a <em>higher</em> level difficulty.</p>\n",
    "<p>Now that we have the difficulty of the episode we should plot it. Let's plot a line graph with the levels on the X-axis and the difficulty (<em>p<sub>win</sub></em>) on the Y-axis. We call this plot the <em>difficulty profile</em> of the episode.</p>"
   ]
  },
  {
   "cell_type": "code",
   "execution_count": 16,
   "metadata": {
    "dc": {
     "key": "31"
    },
    "tags": [
     "sample_code"
    ]
   },
   "outputs": [
    {
     "data": {
      "image/png": "[encoded data removed]",
      "text/plain": [
       "plot without title"
      ]
     },
     "metadata": {
      "image/png": {
       "height": 240,
       "width": 600
      }
     },
     "output_type": "display_data"
    }
   ],
   "source": [
    "# Plotting the level difficulty profile\n",
    "ggplot(difficulty, aes(x=level, y= p_win))+\n",
    "geom_line()+\n",
    "scale_x_continuous(breaks = 1:15) + \n",
    "scale_y_continuous(labels = scales:: percent)"
   ]
  },
  {
   "cell_type": "markdown",
   "metadata": {
    "dc": {
     "key": "38"
    },
    "deletable": false,
    "editable": false,
    "run_control": {
     "frozen": true
    },
    "tags": [
     "context"
    ]
   },
   "source": [
    "## 6. Spotting hard levels\n",
    "<p>What constitutes a <em>hard</em> level is subjective. However, to keep things simple, we could define a threshold of difficulty, say 10%, and label levels with <em>p<sub>win</sub></em> &lt; 10% as <em>hard</em>. It's relatively easy to spot these hard levels on the plot, but we can make the plot more friendly by explicitly highlighting the hard levels.</p>"
   ]
  },
  {
   "cell_type": "code",
   "execution_count": 17,
   "metadata": {
    "dc": {
     "key": "38"
    },
    "tags": [
     "sample_code"
    ]
   },
   "outputs": [
    {
     "data": {
      "image/png": "[encoded data removed]",
      "text/plain": [
       "plot without title"
      ]
     },
     "metadata": {
      "image/png": {
       "height": 240,
       "width": 600
      }
     },
     "output_type": "display_data"
    }
   ],
   "source": [
    "# Adding points and a dashed line\n",
    "ggplot(difficulty, aes(x=level, y= p_win))+\n",
    "geom_line()+\n",
    "scale_x_continuous(breaks = 1:15) + \n",
    "scale_y_continuous(labels = scales:: percent)+\n",
    "geom_hline(yintercept = 0.1, linetype='dashed')+\n",
    "geom_point()"
   ]
  },
  {
   "cell_type": "markdown",
   "metadata": {},
   "source": [
    "## 7. Computing uncertainty\n",
    "\n",
    "<p>As Data Scientists we should always report some measure of the uncertainty of any provided numbers. Maybe tomorrow, another sample will give us slightly different values for the difficulties? Here we will simply use the \n",
    "$$\n",
    "\\sigma_{error} \\approx \\frac{\\sigma_{sample}}{\\sqrt{n}} $$\n",
    "\n",
    "    \n",
    "<p>Here <em>n</em> is the number of datapoints and <em>σ<sub>sample</sub></em> is the sample standard deviation. For a Bernoulli process, the sample standard deviation is: \n",
    "$$\n",
    "\\sigma_{sample} = \\sqrt{p_{win} (1 - p_{win})} \n",
    "$$ \n",
    "<p>Therefore, we can calculate the standard error like this:</p>\n",
    " $$\n",
    "\\sigma_{error} \\approx \\sqrt{\\frac{p_{win}(1 - p_{win})}{n}}\n",
    "$$ \n",
    "<p>We already have all we need in the <code>difficulty</code> data frame! Every level has been played <em>n</em> number of times and we have their difficulty <em>p<sub>win</sub></em>. Now, let's calculate the standard error for each level.</p>"
   ]
  },
  {
   "cell_type": "code",
   "execution_count": 18,
   "metadata": {
    "dc": {
     "key": "45"
    },
    "tags": [
     "sample_code"
    ]
   },
   "outputs": [],
   "source": [
    "# Computing the standard error of p_win for each level\n",
    "difficulty <- difficulty %>%\n",
    "    mutate(error = sqrt(p_win * (1 - p_win) / attempts))"
   ]
  },
  {
   "cell_type": "markdown",
   "metadata": {
    "dc": {
     "key": "52"
    },
    "deletable": false,
    "editable": false,
    "run_control": {
     "frozen": true
    },
    "tags": [
     "context"
    ]
   },
   "source": [
    "## 8. Showing uncertainty\n",
    "<p>Now that we have a measure of uncertainty for each levels' difficulty estimate let's use <em>error bars</em> to show this uncertainty in the plot. We will set the length of the error bars to one standard error. The upper limit and the lower limit of each error bar should then be <em>p<sub>win</sub></em> + <em>σ<sub>error</sub></em> and <em>p<sub>win</sub></em> - <em>σ<sub>error</sub></em>, respectively.</p>"
   ]
  },
  {
   "cell_type": "code",
   "execution_count": 19,
   "metadata": {
    "dc": {
     "key": "52"
    },
    "tags": [
     "sample_code"
    ]
   },
   "outputs": [
    {
     "data": {
      "image/png": "[encoded data removed]",
      "text/plain": [
       "plot without title"
      ]
     },
     "metadata": {
      "image/png": {
       "height": 240,
       "width": 600
      }
     },
     "output_type": "display_data"
    }
   ],
   "source": [
    "# Adding standard error bars\n",
    "ggplot(difficulty, aes(x=level, y= p_win))+\n",
    "geom_line()+\n",
    "scale_x_continuous(breaks = 1:15) + \n",
    "scale_y_continuous(labels = scales:: percent)+\n",
    "geom_hline(yintercept = 0.1, linetype='dashed')+\n",
    "geom_point()+\n",
    "geom_errorbar(aes(ymin= p_win-error,ymax= p_win+error), color= 'blue')"
   ]
  },
  {
   "cell_type": "markdown",
   "metadata": {
    "dc": {
     "key": "59"
    },
    "deletable": false,
    "editable": false,
    "run_control": {
     "frozen": true
    },
    "tags": [
     "context"
    ]
   },
   "source": [
    "## 9. A final metric\n",
    "<p>It looks like our difficulty estimates are pretty precise! Using this plot, a level designer can quickly spot where the hard levels are and also see if there seems to be too many hard levels in the episode.</p>\n",
    "<p>One question a level designer might ask is: \"How likely is it that a player will complete the episode without losing a single time?\" Let's calculate this using the estimated level difficulties!</p>"
   ]
  },
  {
   "cell_type": "code",
   "execution_count": 20,
   "metadata": {
    "dc": {
     "key": "59"
    },
    "tags": [
     "sample_code"
    ]
   },
   "outputs": [
    {
     "data": {
      "text/html": [
       "9.44714093448606e-12"
      ],
      "text/latex": [
       "9.44714093448606e-12"
      ],
      "text/markdown": [
       "9.44714093448606e-12"
      ],
      "text/plain": [
       "[1] 9.447141e-12"
      ]
     },
     "metadata": {},
     "output_type": "display_data"
    }
   ],
   "source": [
    "# The probability of completing the episode without losing a single time\n",
    "p <- prod(difficulty$p_win)\n",
    "\n",
    "# Printing it out\n",
    "p"
   ]
  },
  {
   "cell_type": "markdown",
   "metadata": {
    "dc": {
     "key": "66"
    },
    "deletable": false,
    "editable": false,
    "run_control": {
     "frozen": true
    },
    "tags": [
     "context"
    ]
   },
   "source": [
    "## 10. Should our level designer worry?\n",
    "<p>Given the probability we just calculated, should our level designer worry about that a lot of players might complete the episode in one attempt?</p>"
   ]
  },
  {
   "cell_type": "code",
   "execution_count": 21,
   "metadata": {
    "dc": {
     "key": "66"
    },
    "tags": [
     "sample_code"
    ]
   },
   "outputs": [],
   "source": [
    "# Should our level designer worry about that a lot of \n",
    "# players will complete the episode in one attempt?\n",
    "should_the_designer_worry = TRUE # TRUE / FALSE"
   ]
  }
 ],
 "metadata": {
  "hide_input": false,
  "kernelspec": {
   "display_name": "R",
   "language": "R",
   "name": "ir"
  },
  "language_info": {
   "codemirror_mode": "r",
   "file_extension": ".r",
   "mimetype": "text/x-r-source",
   "name": "R",
   "pygments_lexer": "r",
   "version": "3.6.3"
  }
 },
 "nbformat": 4,
 "nbformat_minor": 2
}
