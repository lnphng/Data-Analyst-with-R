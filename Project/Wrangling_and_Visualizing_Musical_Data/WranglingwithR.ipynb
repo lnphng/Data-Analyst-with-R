{
 "cells": [
  {
   "cell_type": "markdown",
   "metadata": {
    "dc": {
     "key": "3"
    },
    "deletable": false,
    "editable": false,
    "run_control": {
     "frozen": true
    },
    "tags": [
     "context"
    ]
   },
   "source": [
    "## 1. Introduction\n",
    "<p>How do musicians choose the chords they use in their songs? Do guitarists, pianists, and singers gravitate towards different kinds of harmony?</p>\n",
    "<p>We can uncover trends in the kinds of chord progressions used by popular artists by analyzing the harmonic data provided in the <a href=\"http://ddmal.music.mcgill.ca/research/billboard\">McGill Billboard Dataset</a>. This dataset includes professionally tagged chords for several hundred pop/rock songs representative of singles that made the Billboard Hot 100 list between 1958 and 1991. Using the data-wrangling tools available in the <code>dplyr</code> package, and the visualization tools available in the <code>ggplot2</code> package, we can explore the most common chords and chord progressions in these songs, and contrast the harmonies of some guitar-led and piano-led artists to see where the \"affordances\" of those instruments may affect the chord choices artists make.</p>"
   ]
  },
  {
   "cell_type": "code",
   "execution_count": 53,
   "metadata": {
    "dc": {
     "key": "3"
    },
    "tags": [
     "sample_code"
    ]
   },
   "outputs": [
    {
     "name": "stderr",
     "output_type": "stream",
     "text": [
      "Parsed with column specification:\n",
      "cols(\n",
      "  year = \u001b[32mcol_double()\u001b[39m,\n",
      "  chord = \u001b[31mcol_character()\u001b[39m,\n",
      "  root_integer = \u001b[31mcol_character()\u001b[39m,\n",
      "  root_roman = \u001b[31mcol_character()\u001b[39m,\n",
      "  quality = \u001b[31mcol_character()\u001b[39m,\n",
      "  title_compressed = \u001b[31mcol_character()\u001b[39m,\n",
      "  artist_compressed = \u001b[31mcol_character()\u001b[39m,\n",
      "  title = \u001b[31mcol_character()\u001b[39m,\n",
      "  artist = \u001b[31mcol_character()\u001b[39m\n",
      ")\n",
      "\n"
     ]
    },
    {
     "data": {
      "text/html": [
       "<table>\n",
       "<caption>A tibble: 6 × 9</caption>\n",
       "<thead>\n",
       "\t<tr><th scope=col>year</th><th scope=col>chord</th><th scope=col>root_integer</th><th scope=col>root_roman</th><th scope=col>quality</th><th scope=col>title_compressed</th><th scope=col>artist_compressed</th><th scope=col>title</th><th scope=col>artist</th></tr>\n",
       "\t<tr><th scope=col>&lt;dbl&gt;</th><th scope=col>&lt;chr&gt;</th><th scope=col>&lt;chr&gt;</th><th scope=col>&lt;chr&gt;</th><th scope=col>&lt;chr&gt;</th><th scope=col>&lt;chr&gt;</th><th scope=col>&lt;chr&gt;</th><th scope=col>&lt;chr&gt;</th><th scope=col>&lt;chr&gt;</th></tr>\n",
       "</thead>\n",
       "<tbody>\n",
       "\t<tr><td>1961</td><td>A:min</td><td>9</td><td>VI</td><td>min</td><td>idon'tmind</td><td>jamesbrown</td><td>I Don't Mind</td><td>James Brown</td></tr>\n",
       "\t<tr><td>1961</td><td>C:maj</td><td>0</td><td>I </td><td>maj</td><td>idon'tmind</td><td>jamesbrown</td><td>I Don't Mind</td><td>James Brown</td></tr>\n",
       "\t<tr><td>1961</td><td>A:min</td><td>9</td><td>VI</td><td>min</td><td>idon'tmind</td><td>jamesbrown</td><td>I Don't Mind</td><td>James Brown</td></tr>\n",
       "\t<tr><td>1961</td><td>C:maj</td><td>0</td><td>I </td><td>maj</td><td>idon'tmind</td><td>jamesbrown</td><td>I Don't Mind</td><td>James Brown</td></tr>\n",
       "\t<tr><td>1961</td><td>A:min</td><td>9</td><td>VI</td><td>min</td><td>idon'tmind</td><td>jamesbrown</td><td>I Don't Mind</td><td>James Brown</td></tr>\n",
       "\t<tr><td>1961</td><td>C:maj</td><td>0</td><td>I </td><td>maj</td><td>idon'tmind</td><td>jamesbrown</td><td>I Don't Mind</td><td>James Brown</td></tr>\n",
       "</tbody>\n",
       "</table>\n"
      ],
      "text/latex": [
       "A tibble: 6 × 9\n",
       "\\begin{tabular}{lllllllll}\n",
       " year & chord & root\\_integer & root\\_roman & quality & title\\_compressed & artist\\_compressed & title & artist\\\\\n",
       " <dbl> & <chr> & <chr> & <chr> & <chr> & <chr> & <chr> & <chr> & <chr>\\\\\n",
       "\\hline\n",
       "\t 1961 & A:min & 9 & VI & min & idon'tmind & jamesbrown & I Don't Mind & James Brown\\\\\n",
       "\t 1961 & C:maj & 0 & I  & maj & idon'tmind & jamesbrown & I Don't Mind & James Brown\\\\\n",
       "\t 1961 & A:min & 9 & VI & min & idon'tmind & jamesbrown & I Don't Mind & James Brown\\\\\n",
       "\t 1961 & C:maj & 0 & I  & maj & idon'tmind & jamesbrown & I Don't Mind & James Brown\\\\\n",
       "\t 1961 & A:min & 9 & VI & min & idon'tmind & jamesbrown & I Don't Mind & James Brown\\\\\n",
       "\t 1961 & C:maj & 0 & I  & maj & idon'tmind & jamesbrown & I Don't Mind & James Brown\\\\\n",
       "\\end{tabular}\n"
      ],
      "text/markdown": [
       "\n",
       "A tibble: 6 × 9\n",
       "\n",
       "| year &lt;dbl&gt; | chord &lt;chr&gt; | root_integer &lt;chr&gt; | root_roman &lt;chr&gt; | quality &lt;chr&gt; | title_compressed &lt;chr&gt; | artist_compressed &lt;chr&gt; | title &lt;chr&gt; | artist &lt;chr&gt; |\n",
       "|---|---|---|---|---|---|---|---|---|\n",
       "| 1961 | A:min | 9 | VI | min | idon'tmind | jamesbrown | I Don't Mind | James Brown |\n",
       "| 1961 | C:maj | 0 | I  | maj | idon'tmind | jamesbrown | I Don't Mind | James Brown |\n",
       "| 1961 | A:min | 9 | VI | min | idon'tmind | jamesbrown | I Don't Mind | James Brown |\n",
       "| 1961 | C:maj | 0 | I  | maj | idon'tmind | jamesbrown | I Don't Mind | James Brown |\n",
       "| 1961 | A:min | 9 | VI | min | idon'tmind | jamesbrown | I Don't Mind | James Brown |\n",
       "| 1961 | C:maj | 0 | I  | maj | idon'tmind | jamesbrown | I Don't Mind | James Brown |\n",
       "\n"
      ],
      "text/plain": [
       "  year chord root_integer root_roman quality title_compressed artist_compressed\n",
       "1 1961 A:min 9            VI         min     idon'tmind       jamesbrown       \n",
       "2 1961 C:maj 0            I          maj     idon'tmind       jamesbrown       \n",
       "3 1961 A:min 9            VI         min     idon'tmind       jamesbrown       \n",
       "4 1961 C:maj 0            I          maj     idon'tmind       jamesbrown       \n",
       "5 1961 A:min 9            VI         min     idon'tmind       jamesbrown       \n",
       "6 1961 C:maj 0            I          maj     idon'tmind       jamesbrown       \n",
       "  title        artist     \n",
       "1 I Don't Mind James Brown\n",
       "2 I Don't Mind James Brown\n",
       "3 I Don't Mind James Brown\n",
       "4 I Don't Mind James Brown\n",
       "5 I Don't Mind James Brown\n",
       "6 I Don't Mind James Brown"
      ]
     },
     "metadata": {},
     "output_type": "display_data"
    }
   ],
   "source": [
    "# Loading the tidyverse meta-package\n",
    "library(dplyr)\n",
    "library(readr)\n",
    "library(ggplot2)\n",
    "\n",
    "# Reading in the McGill Billboard chord data\n",
    "bb <- read_csv('datasets/bb_chords.csv')\n",
    "\n",
    "# Taking a look at the first rows in bb\n",
    "head(bb)"
   ]
  },
  {
   "cell_type": "markdown",
   "metadata": {
    "dc": {
     "key": "10"
    },
    "deletable": false,
    "editable": false,
    "run_control": {
     "frozen": true
    },
    "tags": [
     "context"
    ]
   },
   "source": [
    "## 2. The most common chords\n",
    "<p>As seen in the previous task, this is a <em>tidy</em> dataset: each row represents a single observation, and each column a particular variable or attribute of that observation. Note that the metadata for each song (title, artist, year) is repeated for each chord -- like \"I Don't Mind\" by James Brown, 1961 -- while the unique attributes of each chord (chord symbol, chord quality, and analytical designations like integer and Roman-numeral notation) is included once for each chord change.</p>\n",
    "<p>A key element of the style of any popular musical artist is the kind of chords they use in their songs. But not all chords are created equal! In addition to differences in how they sound, some chords are simply easier to play than others. On top of that, some chords are easier to play on one instrument than they are on another. And while master musicians can play a wide variety of chords and progressions with ease, it's not a stretch to think that even the best musicians may choose more \"idiomatic\" chords and progressions for their instrument.</p>\n",
    "<p>To start to explore that, let's look at the most common chords in the McGill Billboard Dataset.</p>"
   ]
  },
  {
   "cell_type": "code",
   "execution_count": 54,
   "metadata": {
    "dc": {
     "key": "10"
    },
    "tags": [
     "sample_code"
    ]
   },
   "outputs": [
    {
     "data": {
      "text/html": [
       "<table>\n",
       "<caption>A tibble: 20 × 9</caption>\n",
       "<thead>\n",
       "\t<tr><th scope=col>year</th><th scope=col>chord</th><th scope=col>root_integer</th><th scope=col>root_roman</th><th scope=col>quality</th><th scope=col>title_compressed</th><th scope=col>artist_compressed</th><th scope=col>title</th><th scope=col>artist</th></tr>\n",
       "\t<tr><th scope=col>&lt;dbl&gt;</th><th scope=col>&lt;chr&gt;</th><th scope=col>&lt;chr&gt;</th><th scope=col>&lt;chr&gt;</th><th scope=col>&lt;chr&gt;</th><th scope=col>&lt;chr&gt;</th><th scope=col>&lt;chr&gt;</th><th scope=col>&lt;chr&gt;</th><th scope=col>&lt;chr&gt;</th></tr>\n",
       "</thead>\n",
       "<tbody>\n",
       "\t<tr><td>1961</td><td>A:min  </td><td>9</td><td>VI</td><td>min  </td><td>idon'tmind</td><td>jamesbrown </td><td>I Don't Mind</td><td>James Brown </td></tr>\n",
       "\t<tr><td>1961</td><td>C:maj  </td><td>0</td><td>I </td><td>maj  </td><td>idon'tmind</td><td>jamesbrown </td><td>I Don't Mind</td><td>James Brown </td></tr>\n",
       "\t<tr><td>1961</td><td>A:min  </td><td>9</td><td>VI</td><td>min  </td><td>idon'tmind</td><td>jamesbrown </td><td>I Don't Mind</td><td>James Brown </td></tr>\n",
       "\t<tr><td>1961</td><td>C:maj  </td><td>0</td><td>I </td><td>maj  </td><td>idon'tmind</td><td>jamesbrown </td><td>I Don't Mind</td><td>James Brown </td></tr>\n",
       "\t<tr><td>1961</td><td>A:min  </td><td>9</td><td>VI</td><td>min  </td><td>idon'tmind</td><td>jamesbrown </td><td>I Don't Mind</td><td>James Brown </td></tr>\n",
       "\t<tr><td>1961</td><td>C:maj  </td><td>0</td><td>I </td><td>maj  </td><td>idon'tmind</td><td>jamesbrown </td><td>I Don't Mind</td><td>James Brown </td></tr>\n",
       "\t<tr><td>1961</td><td>A:min  </td><td>9</td><td>VI</td><td>min  </td><td>idon'tmind</td><td>jamesbrown </td><td>I Don't Mind</td><td>James Brown </td></tr>\n",
       "\t<tr><td>1961</td><td>C:maj  </td><td>0</td><td>I </td><td>maj  </td><td>idon'tmind</td><td>jamesbrown </td><td>I Don't Mind</td><td>James Brown </td></tr>\n",
       "\t<tr><td>1961</td><td>A:min  </td><td>9</td><td>VI</td><td>min  </td><td>idon'tmind</td><td>jamesbrown </td><td>I Don't Mind</td><td>James Brown </td></tr>\n",
       "\t<tr><td>1961</td><td>C:maj  </td><td>0</td><td>I </td><td>maj  </td><td>idon'tmind</td><td>jamesbrown </td><td>I Don't Mind</td><td>James Brown </td></tr>\n",
       "\t<tr><td>1961</td><td>F:maj  </td><td>5</td><td>IV</td><td>maj  </td><td>idon'tmind</td><td>jamesbrown </td><td>I Don't Mind</td><td>James Brown </td></tr>\n",
       "\t<tr><td>1961</td><td>D:maj  </td><td>2</td><td>II</td><td>maj  </td><td>idon'tmind</td><td>jamesbrown </td><td>I Don't Mind</td><td>James Brown </td></tr>\n",
       "\t<tr><td>1961</td><td>G:maj  </td><td>7</td><td>V </td><td>maj  </td><td>idon'tmind</td><td>jamesbrown </td><td>I Don't Mind</td><td>James Brown </td></tr>\n",
       "\t<tr><td>1961</td><td>C:maj  </td><td>0</td><td>I </td><td>maj  </td><td>idon'tmind</td><td>jamesbrown </td><td>I Don't Mind</td><td>James Brown </td></tr>\n",
       "\t<tr><td>1961</td><td>A:maj  </td><td>9</td><td>VI</td><td>maj  </td><td>idon'tmind</td><td>jamesbrown </td><td>I Don't Mind</td><td>James Brown </td></tr>\n",
       "\t<tr><td>1980</td><td>C:5    </td><td>0</td><td>I </td><td>5    </td><td>therose   </td><td>bettemidler</td><td>The Rose    </td><td>Bette Midler</td></tr>\n",
       "\t<tr><td>1980</td><td>C:maj  </td><td>0</td><td>I </td><td>maj  </td><td>therose   </td><td>bettemidler</td><td>The Rose    </td><td>Bette Midler</td></tr>\n",
       "\t<tr><td>1980</td><td>G:maj/3</td><td>7</td><td>V </td><td>maj/3</td><td>therose   </td><td>bettemidler</td><td>The Rose    </td><td>Bette Midler</td></tr>\n",
       "\t<tr><td>1980</td><td>F:maj/3</td><td>5</td><td>IV</td><td>maj/3</td><td>therose   </td><td>bettemidler</td><td>The Rose    </td><td>Bette Midler</td></tr>\n",
       "\t<tr><td>1980</td><td>G:maj/3</td><td>7</td><td>V </td><td>maj/3</td><td>therose   </td><td>bettemidler</td><td>The Rose    </td><td>Bette Midler</td></tr>\n",
       "</tbody>\n",
       "</table>\n"
      ],
      "text/latex": [
       "A tibble: 20 × 9\n",
       "\\begin{tabular}{lllllllll}\n",
       " year & chord & root\\_integer & root\\_roman & quality & title\\_compressed & artist\\_compressed & title & artist\\\\\n",
       " <dbl> & <chr> & <chr> & <chr> & <chr> & <chr> & <chr> & <chr> & <chr>\\\\\n",
       "\\hline\n",
       "\t 1961 & A:min   & 9 & VI & min   & idon'tmind & jamesbrown  & I Don't Mind & James Brown \\\\\n",
       "\t 1961 & C:maj   & 0 & I  & maj   & idon'tmind & jamesbrown  & I Don't Mind & James Brown \\\\\n",
       "\t 1961 & A:min   & 9 & VI & min   & idon'tmind & jamesbrown  & I Don't Mind & James Brown \\\\\n",
       "\t 1961 & C:maj   & 0 & I  & maj   & idon'tmind & jamesbrown  & I Don't Mind & James Brown \\\\\n",
       "\t 1961 & A:min   & 9 & VI & min   & idon'tmind & jamesbrown  & I Don't Mind & James Brown \\\\\n",
       "\t 1961 & C:maj   & 0 & I  & maj   & idon'tmind & jamesbrown  & I Don't Mind & James Brown \\\\\n",
       "\t 1961 & A:min   & 9 & VI & min   & idon'tmind & jamesbrown  & I Don't Mind & James Brown \\\\\n",
       "\t 1961 & C:maj   & 0 & I  & maj   & idon'tmind & jamesbrown  & I Don't Mind & James Brown \\\\\n",
       "\t 1961 & A:min   & 9 & VI & min   & idon'tmind & jamesbrown  & I Don't Mind & James Brown \\\\\n",
       "\t 1961 & C:maj   & 0 & I  & maj   & idon'tmind & jamesbrown  & I Don't Mind & James Brown \\\\\n",
       "\t 1961 & F:maj   & 5 & IV & maj   & idon'tmind & jamesbrown  & I Don't Mind & James Brown \\\\\n",
       "\t 1961 & D:maj   & 2 & II & maj   & idon'tmind & jamesbrown  & I Don't Mind & James Brown \\\\\n",
       "\t 1961 & G:maj   & 7 & V  & maj   & idon'tmind & jamesbrown  & I Don't Mind & James Brown \\\\\n",
       "\t 1961 & C:maj   & 0 & I  & maj   & idon'tmind & jamesbrown  & I Don't Mind & James Brown \\\\\n",
       "\t 1961 & A:maj   & 9 & VI & maj   & idon'tmind & jamesbrown  & I Don't Mind & James Brown \\\\\n",
       "\t 1980 & C:5     & 0 & I  & 5     & therose    & bettemidler & The Rose     & Bette Midler\\\\\n",
       "\t 1980 & C:maj   & 0 & I  & maj   & therose    & bettemidler & The Rose     & Bette Midler\\\\\n",
       "\t 1980 & G:maj/3 & 7 & V  & maj/3 & therose    & bettemidler & The Rose     & Bette Midler\\\\\n",
       "\t 1980 & F:maj/3 & 5 & IV & maj/3 & therose    & bettemidler & The Rose     & Bette Midler\\\\\n",
       "\t 1980 & G:maj/3 & 7 & V  & maj/3 & therose    & bettemidler & The Rose     & Bette Midler\\\\\n",
       "\\end{tabular}\n"
      ],
      "text/markdown": [
       "\n",
       "A tibble: 20 × 9\n",
       "\n",
       "| year &lt;dbl&gt; | chord &lt;chr&gt; | root_integer &lt;chr&gt; | root_roman &lt;chr&gt; | quality &lt;chr&gt; | title_compressed &lt;chr&gt; | artist_compressed &lt;chr&gt; | title &lt;chr&gt; | artist &lt;chr&gt; |\n",
       "|---|---|---|---|---|---|---|---|---|\n",
       "| 1961 | A:min   | 9 | VI | min   | idon'tmind | jamesbrown  | I Don't Mind | James Brown  |\n",
       "| 1961 | C:maj   | 0 | I  | maj   | idon'tmind | jamesbrown  | I Don't Mind | James Brown  |\n",
       "| 1961 | A:min   | 9 | VI | min   | idon'tmind | jamesbrown  | I Don't Mind | James Brown  |\n",
       "| 1961 | C:maj   | 0 | I  | maj   | idon'tmind | jamesbrown  | I Don't Mind | James Brown  |\n",
       "| 1961 | A:min   | 9 | VI | min   | idon'tmind | jamesbrown  | I Don't Mind | James Brown  |\n",
       "| 1961 | C:maj   | 0 | I  | maj   | idon'tmind | jamesbrown  | I Don't Mind | James Brown  |\n",
       "| 1961 | A:min   | 9 | VI | min   | idon'tmind | jamesbrown  | I Don't Mind | James Brown  |\n",
       "| 1961 | C:maj   | 0 | I  | maj   | idon'tmind | jamesbrown  | I Don't Mind | James Brown  |\n",
       "| 1961 | A:min   | 9 | VI | min   | idon'tmind | jamesbrown  | I Don't Mind | James Brown  |\n",
       "| 1961 | C:maj   | 0 | I  | maj   | idon'tmind | jamesbrown  | I Don't Mind | James Brown  |\n",
       "| 1961 | F:maj   | 5 | IV | maj   | idon'tmind | jamesbrown  | I Don't Mind | James Brown  |\n",
       "| 1961 | D:maj   | 2 | II | maj   | idon'tmind | jamesbrown  | I Don't Mind | James Brown  |\n",
       "| 1961 | G:maj   | 7 | V  | maj   | idon'tmind | jamesbrown  | I Don't Mind | James Brown  |\n",
       "| 1961 | C:maj   | 0 | I  | maj   | idon'tmind | jamesbrown  | I Don't Mind | James Brown  |\n",
       "| 1961 | A:maj   | 9 | VI | maj   | idon'tmind | jamesbrown  | I Don't Mind | James Brown  |\n",
       "| 1980 | C:5     | 0 | I  | 5     | therose    | bettemidler | The Rose     | Bette Midler |\n",
       "| 1980 | C:maj   | 0 | I  | maj   | therose    | bettemidler | The Rose     | Bette Midler |\n",
       "| 1980 | G:maj/3 | 7 | V  | maj/3 | therose    | bettemidler | The Rose     | Bette Midler |\n",
       "| 1980 | F:maj/3 | 5 | IV | maj/3 | therose    | bettemidler | The Rose     | Bette Midler |\n",
       "| 1980 | G:maj/3 | 7 | V  | maj/3 | therose    | bettemidler | The Rose     | Bette Midler |\n",
       "\n"
      ],
      "text/plain": [
       "   year chord   root_integer root_roman quality title_compressed\n",
       "1  1961 A:min   9            VI         min     idon'tmind      \n",
       "2  1961 C:maj   0            I          maj     idon'tmind      \n",
       "3  1961 A:min   9            VI         min     idon'tmind      \n",
       "4  1961 C:maj   0            I          maj     idon'tmind      \n",
       "5  1961 A:min   9            VI         min     idon'tmind      \n",
       "6  1961 C:maj   0            I          maj     idon'tmind      \n",
       "7  1961 A:min   9            VI         min     idon'tmind      \n",
       "8  1961 C:maj   0            I          maj     idon'tmind      \n",
       "9  1961 A:min   9            VI         min     idon'tmind      \n",
       "10 1961 C:maj   0            I          maj     idon'tmind      \n",
       "11 1961 F:maj   5            IV         maj     idon'tmind      \n",
       "12 1961 D:maj   2            II         maj     idon'tmind      \n",
       "13 1961 G:maj   7            V          maj     idon'tmind      \n",
       "14 1961 C:maj   0            I          maj     idon'tmind      \n",
       "15 1961 A:maj   9            VI         maj     idon'tmind      \n",
       "16 1980 C:5     0            I          5       therose         \n",
       "17 1980 C:maj   0            I          maj     therose         \n",
       "18 1980 G:maj/3 7            V          maj/3   therose         \n",
       "19 1980 F:maj/3 5            IV         maj/3   therose         \n",
       "20 1980 G:maj/3 7            V          maj/3   therose         \n",
       "   artist_compressed title        artist      \n",
       "1  jamesbrown        I Don't Mind James Brown \n",
       "2  jamesbrown        I Don't Mind James Brown \n",
       "3  jamesbrown        I Don't Mind James Brown \n",
       "4  jamesbrown        I Don't Mind James Brown \n",
       "5  jamesbrown        I Don't Mind James Brown \n",
       "6  jamesbrown        I Don't Mind James Brown \n",
       "7  jamesbrown        I Don't Mind James Brown \n",
       "8  jamesbrown        I Don't Mind James Brown \n",
       "9  jamesbrown        I Don't Mind James Brown \n",
       "10 jamesbrown        I Don't Mind James Brown \n",
       "11 jamesbrown        I Don't Mind James Brown \n",
       "12 jamesbrown        I Don't Mind James Brown \n",
       "13 jamesbrown        I Don't Mind James Brown \n",
       "14 jamesbrown        I Don't Mind James Brown \n",
       "15 jamesbrown        I Don't Mind James Brown \n",
       "16 bettemidler       The Rose     Bette Midler\n",
       "17 bettemidler       The Rose     Bette Midler\n",
       "18 bettemidler       The Rose     Bette Midler\n",
       "19 bettemidler       The Rose     Bette Midler\n",
       "20 bettemidler       The Rose     Bette Midler"
      ]
     },
     "metadata": {},
     "output_type": "display_data"
    }
   ],
   "source": [
    "# Counting the most common chords\n",
    "bb_count <- bb %>%\n",
    "  count(chord, sort = TRUE)\n",
    "\n",
    "# Displaying the top 20 chords\n",
    "bb[1:20,]"
   ]
  },
  {
   "cell_type": "markdown",
   "metadata": {},
   "source": [
    "## 3. Visualizing the most common chords\n",
    "<p>Of course, it's easier to get a feel for just how common some of these chords are if we graph them and show the percentage of the total chord count represented by each chord.\n",
    "Musicians may notice right away that the most common chords in this corpus are chords that are easy to play on both the guitar and the piano: C, G, A, and D major — and to an extent, F and E major. (They also belong to keys, or scales, that are easy to play on most instruments, so they fit well with melodies and solos, as well.) After that, there is a steep drop off in the frequency with which individual chords appear. </p>"
   ]
  },
  {
   "cell_type": "code",
   "execution_count": 55,
   "metadata": {
    "dc": {
     "key": "17"
    },
    "tags": [
     "sample_code"
    ]
   },
   "outputs": [
    {
     "data": {
      "image/png": "[encoded data removed]",
      "text/plain": [
       "plot without title"
      ]
     },
     "metadata": {
      "image/png": {
       "height": 420,
       "width": 420
      }
     },
     "output_type": "display_data"
    }
   ],
   "source": [
    "# Creating a bar plot from `bb_count`\n",
    "bb_count %>%\n",
    "  slice(1:20) %>%\n",
    "  mutate(share = n / sum(n),\n",
    "         chord = reorder(chord, share))%>%\n",
    " ggplot( aes(x=chord,y=share, fill=chord)) +\n",
    "geom_col()+\n",
    "  coord_flip() +\n",
    "  ylab(\"Share of total chords\") +\n",
    "  xlab(\"Chord\") \n"
   ]
  },
  {
   "cell_type": "markdown",
   "metadata": {},
   "source": [
    "## 4. Chord \"bigrams\"\n",
    "<p>Just as some chords are more common and more idiomatic than others, not all chord <em>progressions</em> are created equal. To look for common patterns in the structuring of chord progressions, we can use many of the same modes of analysis used in text-mining to analyze phrases. A chord change is simply a <em>bigram</em> — a two-\"word\" phrase — composed of a starting chord and a following chord. Here are the most common two-chord \"phrases\" in the McGill Billboard dataset"
   ]
  },
  {
   "cell_type": "code",
   "execution_count": 56,
   "metadata": {
    "dc": {
     "key": "24"
    },
    "tags": [
     "sample_code"
    ]
   },
   "outputs": [
    {
     "data": {
      "text/html": [
       "<table>\n",
       "<caption>A tibble: 20 × 2</caption>\n",
       "<thead>\n",
       "\t<tr><th scope=col>bigram</th><th scope=col>n</th></tr>\n",
       "\t<tr><th scope=col>&lt;chr&gt;</th><th scope=col>&lt;int&gt;</th></tr>\n",
       "</thead>\n",
       "<tbody>\n",
       "\t<tr><td>G:maj D:maj </td><td>241</td></tr>\n",
       "\t<tr><td>C:maj F:maj </td><td>234</td></tr>\n",
       "\t<tr><td>C:maj G:maj </td><td>217</td></tr>\n",
       "\t<tr><td>B:maj E:maj </td><td>202</td></tr>\n",
       "\t<tr><td>F:maj C:maj </td><td>195</td></tr>\n",
       "\t<tr><td>A:maj E:maj </td><td>190</td></tr>\n",
       "\t<tr><td>A:maj D:maj </td><td>189</td></tr>\n",
       "\t<tr><td>D:maj G:maj </td><td>185</td></tr>\n",
       "\t<tr><td>G:maj C:maj </td><td>185</td></tr>\n",
       "\t<tr><td>D:maj A:maj </td><td>179</td></tr>\n",
       "\t<tr><td>E:maj A:maj </td><td>175</td></tr>\n",
       "\t<tr><td>F:maj Bb:maj</td><td>143</td></tr>\n",
       "\t<tr><td>Bb:maj F:maj</td><td>134</td></tr>\n",
       "\t<tr><td>E:maj B:maj </td><td>134</td></tr>\n",
       "\t<tr><td>Bb:maj C:maj</td><td>133</td></tr>\n",
       "\t<tr><td>G:maj A:maj </td><td>133</td></tr>\n",
       "\t<tr><td>A:maj B:maj </td><td>112</td></tr>\n",
       "\t<tr><td>A:maj G:maj </td><td>105</td></tr>\n",
       "\t<tr><td>F:maj G:maj </td><td> 99</td></tr>\n",
       "\t<tr><td>D:maj C:maj </td><td> 93</td></tr>\n",
       "</tbody>\n",
       "</table>\n"
      ],
      "text/latex": [
       "A tibble: 20 × 2\n",
       "\\begin{tabular}{ll}\n",
       " bigram & n\\\\\n",
       " <chr> & <int>\\\\\n",
       "\\hline\n",
       "\t G:maj D:maj  & 241\\\\\n",
       "\t C:maj F:maj  & 234\\\\\n",
       "\t C:maj G:maj  & 217\\\\\n",
       "\t B:maj E:maj  & 202\\\\\n",
       "\t F:maj C:maj  & 195\\\\\n",
       "\t A:maj E:maj  & 190\\\\\n",
       "\t A:maj D:maj  & 189\\\\\n",
       "\t D:maj G:maj  & 185\\\\\n",
       "\t G:maj C:maj  & 185\\\\\n",
       "\t D:maj A:maj  & 179\\\\\n",
       "\t E:maj A:maj  & 175\\\\\n",
       "\t F:maj Bb:maj & 143\\\\\n",
       "\t Bb:maj F:maj & 134\\\\\n",
       "\t E:maj B:maj  & 134\\\\\n",
       "\t Bb:maj C:maj & 133\\\\\n",
       "\t G:maj A:maj  & 133\\\\\n",
       "\t A:maj B:maj  & 112\\\\\n",
       "\t A:maj G:maj  & 105\\\\\n",
       "\t F:maj G:maj  &  99\\\\\n",
       "\t D:maj C:maj  &  93\\\\\n",
       "\\end{tabular}\n"
      ],
      "text/markdown": [
       "\n",
       "A tibble: 20 × 2\n",
       "\n",
       "| bigram &lt;chr&gt; | n &lt;int&gt; |\n",
       "|---|---|\n",
       "| G:maj D:maj  | 241 |\n",
       "| C:maj F:maj  | 234 |\n",
       "| C:maj G:maj  | 217 |\n",
       "| B:maj E:maj  | 202 |\n",
       "| F:maj C:maj  | 195 |\n",
       "| A:maj E:maj  | 190 |\n",
       "| A:maj D:maj  | 189 |\n",
       "| D:maj G:maj  | 185 |\n",
       "| G:maj C:maj  | 185 |\n",
       "| D:maj A:maj  | 179 |\n",
       "| E:maj A:maj  | 175 |\n",
       "| F:maj Bb:maj | 143 |\n",
       "| Bb:maj F:maj | 134 |\n",
       "| E:maj B:maj  | 134 |\n",
       "| Bb:maj C:maj | 133 |\n",
       "| G:maj A:maj  | 133 |\n",
       "| A:maj B:maj  | 112 |\n",
       "| A:maj G:maj  | 105 |\n",
       "| F:maj G:maj  |  99 |\n",
       "| D:maj C:maj  |  93 |\n",
       "\n"
      ],
      "text/plain": [
       "   bigram       n  \n",
       "1  G:maj D:maj  241\n",
       "2  C:maj F:maj  234\n",
       "3  C:maj G:maj  217\n",
       "4  B:maj E:maj  202\n",
       "5  F:maj C:maj  195\n",
       "6  A:maj E:maj  190\n",
       "7  A:maj D:maj  189\n",
       "8  D:maj G:maj  185\n",
       "9  G:maj C:maj  185\n",
       "10 D:maj A:maj  179\n",
       "11 E:maj A:maj  175\n",
       "12 F:maj Bb:maj 143\n",
       "13 Bb:maj F:maj 134\n",
       "14 E:maj B:maj  134\n",
       "15 Bb:maj C:maj 133\n",
       "16 G:maj A:maj  133\n",
       "17 A:maj B:maj  112\n",
       "18 A:maj G:maj  105\n",
       "19 F:maj G:maj   99\n",
       "20 D:maj C:maj   93"
      ]
     },
     "metadata": {},
     "output_type": "display_data"
    }
   ],
   "source": [
    "# Wrangling and counting bigrams\n",
    "bb_bigram_count <- bb %>%\n",
    "         mutate(next_chord = lead(chord),\n",
    "               next_title = lead(title),\n",
    "               bigram = paste(chord,next_chord))%>%\n",
    "               filter (title == next_title)%>%\n",
    "               count(bigram, sort=TRUE)\n",
    "# Displaying the first 20 rows of bb_bigram_count\n",
    "bb_bigram_count[1:20,]"
   ]
  },
  {
   "cell_type": "markdown",
   "metadata": {
    "dc": {
     "key": "31"
    },
    "deletable": false,
    "editable": false,
    "run_control": {
     "frozen": true
    },
    "tags": [
     "context"
    ]
   },
   "source": [
    "## 5. Visualizing the most common chord progressions\n",
    "<p>We can get a better sense of just how popular some of these chord progressions are if we plot them on a bar graph. Note how the most common chord change, G major to D major, occurs more than twice as often than even some of the other top 20 chord bigrams.</p>"
   ]
  },
  {
   "cell_type": "code",
   "execution_count": 57,
   "metadata": {
    "dc": {
     "key": "31"
    },
    "tags": [
     "sample_code"
    ]
   },
   "outputs": [
    {
     "data": {
      "image/png": "[encoded data removed]",
      "text/plain": [
       "plot without title"
      ]
     },
     "metadata": {
      "image/png": {
       "height": 420,
       "width": 420
      }
     },
     "output_type": "display_data"
    }
   ],
   "source": [
    "# Creating a column plot from bb_bigram_count\n",
    "bb_bigram_count %>%\n",
    "  slice(1:20) %>%\n",
    "  mutate(share = n/sum(n),\n",
    "         chord = reorder(bigram, share)) %>%\n",
    "  ggplot(aes(x=bigram, y=share, fill= bigram)) +\n",
    "  geom_col() +\n",
    "  coord_flip() +\n",
    "  xlab('bigram') +\n",
    "  ylab('share of bigram') "
   ]
  },
  {
   "cell_type": "markdown",
   "metadata": {
    "dc": {
     "key": "38"
    },
    "deletable": false,
    "editable": false,
    "run_control": {
     "frozen": true
    },
    "tags": [
     "context"
    ]
   },
   "source": [
    "## 6. Finding the most common artists\n",
    "<p>As noted above, the most common chords (and chord bigrams) are those that are easy to play on both the guitar and the piano. If the degree to which these chords are idiomatic on guitar or piano (or both) <em>determine</em> how common they are, we would expect to find the more idiomatic guitar chords (C, G, D, A, and E major) to be more common in guitar-driven songs, but we would expect the more idiomatic piano chords (C, F, G, D, and B-flat major) to be more common in piano-driven songs. (Note that there is some overlap between these two instruments.)</p>\n",
    "<p>The McGill Billboard dataset does not come with songs tagged as \"piano-driven\" or \"guitar-driven,\" so to test this hypothesis, we'll have to do that manually. Rather than make this determination for every song in the corpus, let's focus on just a few to see if the hypothesis has some validity. If so, then we can think about tagging more artists in the corpus and testing the hypothesis more exhaustively.</p>\n",
    "<p>Here are the 30 artists with the most songs in the corpus. From this list, we'll extract a few artists who are obviously heavy on guitar or piano to compare.</p>"
   ]
  },
  {
   "cell_type": "code",
   "execution_count": 58,
   "metadata": {
    "dc": {
     "key": "38"
    },
    "tags": [
     "sample_code"
    ]
   },
   "outputs": [
    {
     "data": {
      "text/html": [
       "<table>\n",
       "<caption>A tibble: 30 × 2</caption>\n",
       "<thead>\n",
       "\t<tr><th scope=col>artist</th><th scope=col>n</th></tr>\n",
       "\t<tr><th scope=col>&lt;chr&gt;</th><th scope=col>&lt;int&gt;</th></tr>\n",
       "</thead>\n",
       "<tbody>\n",
       "\t<tr><td>Elvis Presley     </td><td>13</td></tr>\n",
       "\t<tr><td>Brenda Lee        </td><td> 9</td></tr>\n",
       "\t<tr><td>Dion              </td><td> 8</td></tr>\n",
       "\t<tr><td>Bob Seger         </td><td> 7</td></tr>\n",
       "\t<tr><td>James Brown       </td><td> 7</td></tr>\n",
       "\t<tr><td>Kenny Rogers      </td><td> 7</td></tr>\n",
       "\t<tr><td>The Beatles       </td><td> 7</td></tr>\n",
       "\t<tr><td>Chicago           </td><td> 6</td></tr>\n",
       "\t<tr><td>Dr. Hook          </td><td> 6</td></tr>\n",
       "\t<tr><td>Eric Clapton      </td><td> 6</td></tr>\n",
       "\t<tr><td>John Denver       </td><td> 6</td></tr>\n",
       "\t<tr><td>Johnny Tillotson  </td><td> 6</td></tr>\n",
       "\t<tr><td>The Beach Boys    </td><td> 6</td></tr>\n",
       "\t<tr><td>Abba              </td><td> 5</td></tr>\n",
       "\t<tr><td>Billy Idol        </td><td> 5</td></tr>\n",
       "\t<tr><td>Cliff Richard     </td><td> 5</td></tr>\n",
       "\t<tr><td>Glen Campbell     </td><td> 5</td></tr>\n",
       "\t<tr><td>The Rolling Stones</td><td> 5</td></tr>\n",
       "\t<tr><td>Billy Joel        </td><td> 4</td></tr>\n",
       "\t<tr><td>Cheap Trick       </td><td> 4</td></tr>\n",
       "\t<tr><td>Cyndi Lauper      </td><td> 4</td></tr>\n",
       "\t<tr><td>David Bowie       </td><td> 4</td></tr>\n",
       "\t<tr><td>Elton John        </td><td> 4</td></tr>\n",
       "\t<tr><td>Genesis           </td><td> 4</td></tr>\n",
       "\t<tr><td>Heart             </td><td> 4</td></tr>\n",
       "\t<tr><td>Jackson Browne    </td><td> 4</td></tr>\n",
       "\t<tr><td>Little River Band </td><td> 4</td></tr>\n",
       "\t<tr><td>Michael Jackson   </td><td> 4</td></tr>\n",
       "\t<tr><td>Pat Benatar       </td><td> 4</td></tr>\n",
       "\t<tr><td>Stevie Wonder     </td><td> 4</td></tr>\n",
       "</tbody>\n",
       "</table>\n"
      ],
      "text/latex": [
       "A tibble: 30 × 2\n",
       "\\begin{tabular}{ll}\n",
       " artist & n\\\\\n",
       " <chr> & <int>\\\\\n",
       "\\hline\n",
       "\t Elvis Presley      & 13\\\\\n",
       "\t Brenda Lee         &  9\\\\\n",
       "\t Dion               &  8\\\\\n",
       "\t Bob Seger          &  7\\\\\n",
       "\t James Brown        &  7\\\\\n",
       "\t Kenny Rogers       &  7\\\\\n",
       "\t The Beatles        &  7\\\\\n",
       "\t Chicago            &  6\\\\\n",
       "\t Dr. Hook           &  6\\\\\n",
       "\t Eric Clapton       &  6\\\\\n",
       "\t John Denver        &  6\\\\\n",
       "\t Johnny Tillotson   &  6\\\\\n",
       "\t The Beach Boys     &  6\\\\\n",
       "\t Abba               &  5\\\\\n",
       "\t Billy Idol         &  5\\\\\n",
       "\t Cliff Richard      &  5\\\\\n",
       "\t Glen Campbell      &  5\\\\\n",
       "\t The Rolling Stones &  5\\\\\n",
       "\t Billy Joel         &  4\\\\\n",
       "\t Cheap Trick        &  4\\\\\n",
       "\t Cyndi Lauper       &  4\\\\\n",
       "\t David Bowie        &  4\\\\\n",
       "\t Elton John         &  4\\\\\n",
       "\t Genesis            &  4\\\\\n",
       "\t Heart              &  4\\\\\n",
       "\t Jackson Browne     &  4\\\\\n",
       "\t Little River Band  &  4\\\\\n",
       "\t Michael Jackson    &  4\\\\\n",
       "\t Pat Benatar        &  4\\\\\n",
       "\t Stevie Wonder      &  4\\\\\n",
       "\\end{tabular}\n"
      ],
      "text/markdown": [
       "\n",
       "A tibble: 30 × 2\n",
       "\n",
       "| artist &lt;chr&gt; | n &lt;int&gt; |\n",
       "|---|---|\n",
       "| Elvis Presley      | 13 |\n",
       "| Brenda Lee         |  9 |\n",
       "| Dion               |  8 |\n",
       "| Bob Seger          |  7 |\n",
       "| James Brown        |  7 |\n",
       "| Kenny Rogers       |  7 |\n",
       "| The Beatles        |  7 |\n",
       "| Chicago            |  6 |\n",
       "| Dr. Hook           |  6 |\n",
       "| Eric Clapton       |  6 |\n",
       "| John Denver        |  6 |\n",
       "| Johnny Tillotson   |  6 |\n",
       "| The Beach Boys     |  6 |\n",
       "| Abba               |  5 |\n",
       "| Billy Idol         |  5 |\n",
       "| Cliff Richard      |  5 |\n",
       "| Glen Campbell      |  5 |\n",
       "| The Rolling Stones |  5 |\n",
       "| Billy Joel         |  4 |\n",
       "| Cheap Trick        |  4 |\n",
       "| Cyndi Lauper       |  4 |\n",
       "| David Bowie        |  4 |\n",
       "| Elton John         |  4 |\n",
       "| Genesis            |  4 |\n",
       "| Heart              |  4 |\n",
       "| Jackson Browne     |  4 |\n",
       "| Little River Band  |  4 |\n",
       "| Michael Jackson    |  4 |\n",
       "| Pat Benatar        |  4 |\n",
       "| Stevie Wonder      |  4 |\n",
       "\n"
      ],
      "text/plain": [
       "   artist             n \n",
       "1  Elvis Presley      13\n",
       "2  Brenda Lee          9\n",
       "3  Dion                8\n",
       "4  Bob Seger           7\n",
       "5  James Brown         7\n",
       "6  Kenny Rogers        7\n",
       "7  The Beatles         7\n",
       "8  Chicago             6\n",
       "9  Dr. Hook            6\n",
       "10 Eric Clapton        6\n",
       "11 John Denver         6\n",
       "12 Johnny Tillotson    6\n",
       "13 The Beach Boys      6\n",
       "14 Abba                5\n",
       "15 Billy Idol          5\n",
       "16 Cliff Richard       5\n",
       "17 Glen Campbell       5\n",
       "18 The Rolling Stones  5\n",
       "19 Billy Joel          4\n",
       "20 Cheap Trick         4\n",
       "21 Cyndi Lauper        4\n",
       "22 David Bowie         4\n",
       "23 Elton John          4\n",
       "24 Genesis             4\n",
       "25 Heart               4\n",
       "26 Jackson Browne      4\n",
       "27 Little River Band   4\n",
       "28 Michael Jackson     4\n",
       "29 Pat Benatar         4\n",
       "30 Stevie Wonder       4"
      ]
     },
     "metadata": {},
     "output_type": "display_data"
    }
   ],
   "source": [
    "# Finding and displaying the 30 artists with the most songs in the corpus\n",
    "bb_30_artists <- bb %>%\n",
    "                 select(artist,title)%>%\n",
    "                  unique()  %>%\n",
    "                  count(artist, sort=TRUE)\n",
    "                   \n",
    "bb_30_artists %>%\n",
    "  slice(1:30)"
   ]
  },
  {
   "cell_type": "markdown",
   "metadata": {
    "dc": {
     "key": "45"
    },
    "deletable": false,
    "editable": false,
    "run_control": {
     "frozen": true
    },
    "tags": [
     "context"
    ]
   },
   "source": [
    "## 7. Tagging the corpus\n",
    "<p>There are relatively few artists in this list whose music is demonstrably \"piano-driven,\" but we can identify a few that generally emphasize keyboards over guitar: Abba, Billy Joel, Elton John, and Stevie Wonder — totaling 17 songs in the corpus. There are many guitar-centered artists in this list, so for our test, we'll focus on three well known, guitar-heavy artists with a similar number of songs in the corpus: The Rolling Stones, The Beatles, and Eric Clapton (18 songs).</p>\n",
    "<p>Once we've subset the corpus to only songs by these seven artists and applied the \"piano\" and \"guitar\" tags, we can compare the chord content of piano-driven and guitar-driven songs.</p>"
   ]
  },
  {
   "cell_type": "code",
   "execution_count": 59,
   "metadata": {
    "dc": {
     "key": "45"
    },
    "tags": [
     "sample_code"
    ]
   },
   "outputs": [
    {
     "name": "stderr",
     "output_type": "stream",
     "text": [
      "Joining, by = \"artist\"\n",
      "\n"
     ]
    },
    {
     "data": {
      "text/html": [
       "<table>\n",
       "<caption>A tibble: 6 × 10</caption>\n",
       "<thead>\n",
       "\t<tr><th scope=col>year</th><th scope=col>chord</th><th scope=col>root_integer</th><th scope=col>root_roman</th><th scope=col>quality</th><th scope=col>title_compressed</th><th scope=col>artist_compressed</th><th scope=col>title</th><th scope=col>artist</th><th scope=col>instrument</th></tr>\n",
       "\t<tr><th scope=col>&lt;dbl&gt;</th><th scope=col>&lt;chr&gt;</th><th scope=col>&lt;chr&gt;</th><th scope=col>&lt;chr&gt;</th><th scope=col>&lt;chr&gt;</th><th scope=col>&lt;chr&gt;</th><th scope=col>&lt;chr&gt;</th><th scope=col>&lt;chr&gt;</th><th scope=col>&lt;chr&gt;</th><th scope=col>&lt;chr&gt;</th></tr>\n",
       "</thead>\n",
       "<tbody>\n",
       "\t<tr><td>1984</td><td>C:maj</td><td>0</td><td>I </td><td>maj</td><td>aninnocentman</td><td>billyjoel</td><td>An Innocent Man</td><td>Billy Joel</td><td>piano</td></tr>\n",
       "\t<tr><td>1984</td><td>D:min</td><td>2</td><td>II</td><td>min</td><td>aninnocentman</td><td>billyjoel</td><td>An Innocent Man</td><td>Billy Joel</td><td>piano</td></tr>\n",
       "\t<tr><td>1984</td><td>F:maj</td><td>5</td><td>IV</td><td>maj</td><td>aninnocentman</td><td>billyjoel</td><td>An Innocent Man</td><td>Billy Joel</td><td>piano</td></tr>\n",
       "\t<tr><td>1984</td><td>G:maj</td><td>7</td><td>V </td><td>maj</td><td>aninnocentman</td><td>billyjoel</td><td>An Innocent Man</td><td>Billy Joel</td><td>piano</td></tr>\n",
       "\t<tr><td>1984</td><td>C:maj</td><td>0</td><td>I </td><td>maj</td><td>aninnocentman</td><td>billyjoel</td><td>An Innocent Man</td><td>Billy Joel</td><td>piano</td></tr>\n",
       "\t<tr><td>1984</td><td>D:min</td><td>2</td><td>II</td><td>min</td><td>aninnocentman</td><td>billyjoel</td><td>An Innocent Man</td><td>Billy Joel</td><td>piano</td></tr>\n",
       "</tbody>\n",
       "</table>\n"
      ],
      "text/latex": [
       "A tibble: 6 × 10\n",
       "\\begin{tabular}{llllllllll}\n",
       " year & chord & root\\_integer & root\\_roman & quality & title\\_compressed & artist\\_compressed & title & artist & instrument\\\\\n",
       " <dbl> & <chr> & <chr> & <chr> & <chr> & <chr> & <chr> & <chr> & <chr> & <chr>\\\\\n",
       "\\hline\n",
       "\t 1984 & C:maj & 0 & I  & maj & aninnocentman & billyjoel & An Innocent Man & Billy Joel & piano\\\\\n",
       "\t 1984 & D:min & 2 & II & min & aninnocentman & billyjoel & An Innocent Man & Billy Joel & piano\\\\\n",
       "\t 1984 & F:maj & 5 & IV & maj & aninnocentman & billyjoel & An Innocent Man & Billy Joel & piano\\\\\n",
       "\t 1984 & G:maj & 7 & V  & maj & aninnocentman & billyjoel & An Innocent Man & Billy Joel & piano\\\\\n",
       "\t 1984 & C:maj & 0 & I  & maj & aninnocentman & billyjoel & An Innocent Man & Billy Joel & piano\\\\\n",
       "\t 1984 & D:min & 2 & II & min & aninnocentman & billyjoel & An Innocent Man & Billy Joel & piano\\\\\n",
       "\\end{tabular}\n"
      ],
      "text/markdown": [
       "\n",
       "A tibble: 6 × 10\n",
       "\n",
       "| year &lt;dbl&gt; | chord &lt;chr&gt; | root_integer &lt;chr&gt; | root_roman &lt;chr&gt; | quality &lt;chr&gt; | title_compressed &lt;chr&gt; | artist_compressed &lt;chr&gt; | title &lt;chr&gt; | artist &lt;chr&gt; | instrument &lt;chr&gt; |\n",
       "|---|---|---|---|---|---|---|---|---|---|\n",
       "| 1984 | C:maj | 0 | I  | maj | aninnocentman | billyjoel | An Innocent Man | Billy Joel | piano |\n",
       "| 1984 | D:min | 2 | II | min | aninnocentman | billyjoel | An Innocent Man | Billy Joel | piano |\n",
       "| 1984 | F:maj | 5 | IV | maj | aninnocentman | billyjoel | An Innocent Man | Billy Joel | piano |\n",
       "| 1984 | G:maj | 7 | V  | maj | aninnocentman | billyjoel | An Innocent Man | Billy Joel | piano |\n",
       "| 1984 | C:maj | 0 | I  | maj | aninnocentman | billyjoel | An Innocent Man | Billy Joel | piano |\n",
       "| 1984 | D:min | 2 | II | min | aninnocentman | billyjoel | An Innocent Man | Billy Joel | piano |\n",
       "\n"
      ],
      "text/plain": [
       "  year chord root_integer root_roman quality title_compressed artist_compressed\n",
       "1 1984 C:maj 0            I          maj     aninnocentman    billyjoel        \n",
       "2 1984 D:min 2            II         min     aninnocentman    billyjoel        \n",
       "3 1984 F:maj 5            IV         maj     aninnocentman    billyjoel        \n",
       "4 1984 G:maj 7            V          maj     aninnocentman    billyjoel        \n",
       "5 1984 C:maj 0            I          maj     aninnocentman    billyjoel        \n",
       "6 1984 D:min 2            II         min     aninnocentman    billyjoel        \n",
       "  title           artist     instrument\n",
       "1 An Innocent Man Billy Joel piano     \n",
       "2 An Innocent Man Billy Joel piano     \n",
       "3 An Innocent Man Billy Joel piano     \n",
       "4 An Innocent Man Billy Joel piano     \n",
       "5 An Innocent Man Billy Joel piano     \n",
       "6 An Innocent Man Billy Joel piano     "
      ]
     },
     "metadata": {},
     "output_type": "display_data"
    }
   ],
   "source": [
    "tags <- tibble(\n",
    "  artist = c('Abba', 'Billy Joel', 'Elton John', 'Stevie Wonder', 'The Rolling Stones', 'The Beatles', 'Eric Clapton'),\n",
    "  instrument = c('piano', 'piano', 'piano', 'piano', 'guitar', 'guitar', 'guitar'))\n",
    "\n",
    "# Creating a new dataframe `bb_tagged` that includes a new column `instrument` from `tags`\n",
    "bb_tagged <- bb %>%\n",
    "    inner_join(tags,how=\"instrument\")\n",
    "    \n",
    "# Displaying the new dataframe\n",
    "head(bb_tagged)"
   ]
  },
  {
   "cell_type": "markdown",
   "metadata": {
    "dc": {
     "key": "52"
    },
    "deletable": false,
    "editable": false,
    "run_control": {
     "frozen": true
    },
    "tags": [
     "context"
    ]
   },
   "source": [
    "## 8. Comparing chords in piano-driven and guitar-driven songs\n",
    "<p>Let's take a look at any difference in how common chords are in these two song groups. To clean things up, we'll just focus on the 20 chords most common in the McGill Billboard dataset overall.</p>\n",
    "<p>While we want to be careful about drawing any conclusions from such a small set of songs, we can see that the chords easiest to play on the guitar <em>do</em> dominate the guitar-driven songs, especially G, D, E, and C major, as well as A major and minor. Similarly, \"flat\" chords (B-flat, E-flat, A-flat major) occur frequently in piano-driven songs, though they are nearly absent from the guitar-driven songs. In fact, the first and fourth most frequent piano chords are \"flat\" chords that occur rarely, if at all, in the guitar songs.</p>\n",
    "<p>So with all the appropriate caveats, it seems like the instrument-based-harmony hypothesis does have some merit and is worth further examination.</p>"
   ]
  },
  {
   "cell_type": "code",
   "execution_count": 60,
   "metadata": {
    "dc": {
     "key": "52"
    },
    "tags": [
     "sample_code"
    ]
   },
   "outputs": [
    {
     "data": {
      "image/png": "[encoded data removed]",
      "text/plain": [
       "plot without title"
      ]
     },
     "metadata": {
      "image/png": {
       "height": 420,
       "width": 420
      }
     },
     "output_type": "display_data"
    }
   ],
   "source": [
    "# The top 20 most common chords\n",
    "top_20 <- bb_count$chord[1:20]\n",
    "\n",
    "# Comparing the frequency of the 20 most common chords in piano- and guitar-driven songs\n",
    "bb_tagged %>%\n",
    "  filter(chord %in% top_20) %>%\n",
    "  count(chord, instrument, sort=TRUE) %>%\n",
    "  ggplot(aes(chord, n, fill=chord)) +\n",
    "  geom_col() +\n",
    "  facet_grid(~instrument) +\n",
    "  coord_flip() +\n",
    "  xlab('chord') +\n",
    "  ylab('Total chord') +\n",
    "  theme(legend.position='none')\n",
    "\n"
   ]
  },
  {
   "cell_type": "markdown",
   "metadata": {
    "dc": {
     "key": "59"
    },
    "deletable": false,
    "editable": false,
    "run_control": {
     "frozen": true
    },
    "tags": [
     "context"
    ]
   },
   "source": [
    "## 9. Comparing chord bigrams in piano-driven and guitar-driven songs\n",
    "<p>Since chord occurrence and chord bigram occurrence are naturally strongly tied to each other, it would not be a reach to expect that a difference in chord frequency would be reflected in a difference in chord bigram frequency. Indeed that is what we find.</p>"
   ]
  },
  {
   "cell_type": "code",
   "execution_count": 61,
   "metadata": {
    "dc": {
     "key": "59"
    },
    "tags": [
     "sample_code"
    ]
   },
   "outputs": [
    {
     "data": {
      "image/png": "[encoded data removed]",
      "text/plain": [
       "plot without title"
      ]
     },
     "metadata": {
      "image/png": {
       "height": 420,
       "width": 420
      }
     },
     "output_type": "display_data"
    }
   ],
   "source": [
    "# The top 20 most common bigrams\n",
    "top_20_bigram <- bb_bigram_count$bigram[1:20]\n",
    "\n",
    "# Creating a faceted plot comparing guitar- and piano-driven songs for bigram frequency\n",
    "bb_tagged %>% \n",
    "    mutate(next_chord=lead(chord),\n",
    "          next_title=lead(title),\n",
    "          bigram= paste(chord,next_chord))%>%\n",
    "          filter(bigram %in% top_20_bigram)%>%\n",
    "          count(bigram, sort=TRUE)%>%\n",
    "              ggplot(aes(bigram, n, fill =bigram)) +\n",
    "              geom_col() +\n",
    "              coord_flip() +\n",
    "              xlab('chord') +\n",
    "              ylab('Total chord') +\n",
    "              theme(legend.position='none')"
   ]
  },
  {
   "cell_type": "markdown",
   "metadata": {
    "dc": {
     "key": "66"
    },
    "deletable": false,
    "editable": false,
    "run_control": {
     "frozen": true
    },
    "tags": [
     "context"
    ]
   },
   "source": [
    "## 10. Conclusion\n",
    "<p>We set out asking if the degree to which a chord is \"idiomatic\" on an instrument affects how frequently it is used by a songwriter. It seems that is indeed the case. In a large representative sample of pop/rock songs from the historical Billboard charts, the chords most often learned first by guitarists and pianists are the most common. In fact, chords commonly deemed <em>easy</em> or <em>beginner-friendly</em> on <strong>both</strong> piano and guitar are far and away the most common in the corpus.</p>\n",
    "<p>We also examined a subset of 35 songs from seven piano- and guitar-heavy artists and found that guitarists and pianists tend to use different sets of chords for their songs. This was an extremely small (and likely not representative) sample, so we can do nothing more than hypothesize that this trend might carry over throughout the larger dataset. But it seems from this exploration that it's worth a closer look.</p>\n",
    "<p>There are still more questions to explore with this dataset. What about band-driven genres like classic R&amp;B and funk, where artists like James Brown and Chicago build chords from a large number of instruments each playing a single note? What about \"progressive\" bands like Yes and Genesis, where \"easy\" and \"idiomatic\" may be less of a concern during the songwriting process? And what if we compared this dataset to a collection of chords from classical songs, jazz charts, folk songs, liturgical songs?</p>\n",
    "<p>There's only one way to find out!</p>"
   ]
  },
  {
   "cell_type": "code",
   "execution_count": 64,
   "metadata": {
    "dc": {
     "key": "66"
    },
    "tags": [
     "sample_code"
    ]
   },
   "outputs": [],
   "source": [
    "# Set to TRUE or FALSE to reflect your answer\n",
    "hypothesis_valid <- TRUE\n",
    "\n",
    "# Set to TRUE or FALSE to reflect your answer\n",
    "more_data_needed <- TRUE"
   ]
  }
 ],
 "metadata": {
  "hide_input": false,
  "kernelspec": {
   "display_name": "R",
   "language": "R",
   "name": "ir"
  },
  "language_info": {
   "codemirror_mode": "r",
   "file_extension": ".r",
   "mimetype": "text/x-r-source",
   "name": "R",
   "pygments_lexer": "r",
   "version": "3.6.3"
  }
 },
 "nbformat": 4,
 "nbformat_minor": 2
}
